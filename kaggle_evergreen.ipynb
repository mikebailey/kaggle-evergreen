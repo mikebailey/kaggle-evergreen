{
 "metadata": {
  "name": ""
 },
 "nbformat": 3,
 "nbformat_minor": 0,
 "worksheets": [
  {
   "cells": [
    {
     "cell_type": "code",
     "collapsed": false,
     "input": [
      "import numpy as np\n",
      "import scipy as sp\n",
      "import pandas as pd\n",
      "from sklearn.ensemble import RandomForestClassifier\n",
      "from sklearn import cross_validation\n",
      "from sklearn import metrics\n",
      "mydir = '/Users/mcbailey/programming/kaggle/competitions/kaggle-evergreen/'"
     ],
     "language": "python",
     "metadata": {},
     "outputs": [],
     "prompt_number": 16
    },
    {
     "cell_type": "code",
     "collapsed": false,
     "input": [
      "#evaluation metric\n",
      "#fpr, tpr, thresholds = metrics.roc_curve(true_labels, predictions, pos_label=1)\n",
      "#auc = metrics.auc(fpr,tpr)"
     ],
     "language": "python",
     "metadata": {},
     "outputs": [],
     "prompt_number": 86
    },
    {
     "cell_type": "code",
     "collapsed": false,
     "input": [
      "# Read in data, split into train, target, test\n",
      "train_data = pd.read_csv(mydir + 'train.tsv', delimiter='\\t', na_values='?')\n",
      "train_data = train_data.set_index('urlid')\n",
      "# replace alchemy_categories with categorical variable `categories`, drop character variables\n",
      "x = pd.Series(pd.Categorical.from_array(train_data['alchemy_category']).labels, index=train_data.index)\n",
      "x.replace(-1, NaN, inplace=True)\n",
      "train_data['categories'] = x\n",
      "\n",
      "test_data = pd.read_csv(mydir + 'test.tsv', delimiter='\\t', na_values='?')\n",
      "test_data = test_data.set_index('urlid')\n",
      "x = pd.Series(pd.Categorical.from_array(test_data['alchemy_category']).labels, index=test_data.index)\n",
      "x.replace(-1, NaN, inplace=True)\n",
      "test_data['categories'] = x\n",
      "\n",
      "train = train_data.drop('label', axis=1).drop('url', axis=1).drop('boilerplate', axis=1).drop('alchemy_category', axis=1).values\n",
      "target = train_data['label'].values\n",
      "test = test_data.drop('url', axis=1).drop('boilerplate', axis=1).drop('alchemy_category', axis=1).values\n"
     ],
     "language": "python",
     "metadata": {},
     "outputs": [],
     "prompt_number": 147
    },
    {
     "cell_type": "code",
     "collapsed": false,
     "input": [
      "# HANDLE NANs\n",
      "# method 1: drop any row with a NaN\n",
      "train_data_dropped = train_data.dropna()\n",
      "test_data_dropped = test_data.dropna()\n",
      "\n",
      "train_drop = train_data_dropped.drop('label', axis=1).drop('url', axis=1).drop('boilerplate', axis=1).drop('alchemy_category', axis=1).values\n",
      "target_drop = train_data_dropped['label'].values\n",
      "test_drop = test_data_dropped.drop('url', axis=1).drop('boilerplate', axis=1).drop('alchemy_category', axis=1).values\n",
      "\n",
      "# method 2: interploate with mode\n",
      "\n",
      "\n"
     ],
     "language": "python",
     "metadata": {},
     "outputs": []
    },
    {
     "cell_type": "code",
     "collapsed": false,
     "input": [
      "# method 3: interpolate with mean\n",
      "train_data_mean = train_data.fillna(train_data.mean())\n",
      "test_data_mean = test_data.fillna(test_data.mean())\n",
      "\n",
      "train_mean = train_data_mean.drop('label', axis=1).drop('url', axis=1).drop('boilerplate', axis=1).drop('alchemy_category', axis=1).values\n",
      "target_mean = train_data_mean['label'].values\n",
      "test_mean = test_data_mean.drop('url', axis=1).drop('boilerplate', axis=1).drop('alchemy_category', axis=1).values\n"
     ],
     "language": "python",
     "metadata": {},
     "outputs": [
      {
       "output_type": "stream",
       "stream": "stderr",
       "text": [
        "/Users/mcbailey/.virtualenvs/data/lib/python2.7/site-packages/pandas/core/config.py:570: DeprecationWarning: height has been deprecated.\n",
        "\n",
        "  warnings.warn(d.msg, DeprecationWarning)\n"
       ]
      }
     ],
     "prompt_number": 152
    },
    {
     "cell_type": "code",
     "collapsed": false,
     "input": [
      "# RANDOM FOREST\n",
      "rf = RandomForestClassifier(n_estimators=100) \n",
      "rf.fit(train_mean, target_mean) \n",
      "predicted_probs = [x[1] for x in rf.predict_proba(test_mean)]\n",
      "\n",
      "# make submission file\n",
      "predicted_probs = pd.Series(predicted_probs, index=test_data_mean.index)\n",
      "my_submission = pd.DataFrame(predicted_probs, columns=['label'])\n",
      "my_submission.to_csv(mydir + 'rf_mean.csv', index=True, float_format=\"%f\")\n"
     ],
     "language": "python",
     "metadata": {},
     "outputs": [],
     "prompt_number": 153
    }
   ],
   "metadata": {}
  }
 ]
}