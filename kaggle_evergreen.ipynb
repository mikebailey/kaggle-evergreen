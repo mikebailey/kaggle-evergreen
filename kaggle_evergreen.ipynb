{
 "metadata": {
  "name": ""
 },
 "nbformat": 3,
 "nbformat_minor": 0,
 "worksheets": [
  {
   "cells": [
    {
     "cell_type": "code",
     "collapsed": false,
     "input": [
      "import numpy as np\n",
      "import scipy as sp\n",
      "import pandas as pd\n",
      "from sklearn.ensemble import RandomForestClassifier\n",
      "from sklearn import cross_validation\n",
      "from sklearn import metrics\n",
      "mydir = '/Users/mcbailey/programming/kaggle/competitions/kaggle-evergreen/'"
     ],
     "language": "python",
     "metadata": {},
     "outputs": [],
     "prompt_number": 1
    },
    {
     "cell_type": "code",
     "collapsed": false,
     "input": [
      "#evaluation metric\n",
      "#fpr, tpr, thresholds = metrics.roc_curve(true_labels, predictions, pos_label=1)\n",
      "#auc = metrics.auc(fpr,tpr)"
     ],
     "language": "python",
     "metadata": {},
     "outputs": [],
     "prompt_number": 2
    },
    {
     "cell_type": "code",
     "collapsed": false,
     "input": [
      "# Read in data, split into train, target, test\n",
      "train_data = pd.read_csv(mydir + 'train.tsv', delimiter='\\t', na_values='?')\n",
      "train_data = train_data.set_index('urlid')\n",
      "# replace alchemy_categories with categorical variable `categories`, drop character variables\n",
      "x = pd.Series(pd.Categorical.from_array(train_data['alchemy_category']).labels, index=train_data.index)\n",
      "x.replace(-1, NaN, inplace=True)\n",
      "train_data['categories'] = x\n",
      "\n",
      "test_data = pd.read_csv(mydir + 'test.tsv', delimiter='\\t', na_values='?')\n",
      "test_data = test_data.set_index('urlid')\n",
      "x = pd.Series(pd.Categorical.from_array(test_data['alchemy_category']).labels, index=test_data.index)\n",
      "x.replace(-1, NaN, inplace=True)\n",
      "test_data['categories'] = x\n",
      "\n",
      "train = train_data.drop('label', axis=1).drop('url', axis=1).drop('boilerplate', axis=1).drop('alchemy_category', axis=1).values\n",
      "target = train_data['label'].values\n",
      "test = test_data.drop('url', axis=1).drop('boilerplate', axis=1).drop('alchemy_category', axis=1).values\n"
     ],
     "language": "python",
     "metadata": {},
     "outputs": [],
     "prompt_number": 2
    },
    {
     "cell_type": "code",
     "collapsed": false,
     "input": [
      "# HANDLE NANs\n",
      "# method 1: drop any row with a NaN\n",
      "train_data_dropped = train_data.dropna()\n",
      "test_data_dropped = test_data.dropna()\n",
      "\n",
      "train_drop = train_data_dropped.drop('label', axis=1).drop('url', axis=1).drop('boilerplate', axis=1).drop('alchemy_category', axis=1).values\n",
      "target_drop = train_data_dropped['label'].values\n",
      "test_drop = test_data_dropped.drop('url', axis=1).drop('boilerplate', axis=1).drop('alchemy_category', axis=1).values\n",
      "\n",
      "# method 2: interploate with mode\n",
      "\n",
      "\n"
     ],
     "language": "python",
     "metadata": {},
     "outputs": [],
     "prompt_number": 4
    },
    {
     "cell_type": "code",
     "collapsed": false,
     "input": [
      "# method 3: interpolate with mean\n",
      "train_data_mean = train_data.fillna(train_data.mean())\n",
      "test_data_mean = test_data.fillna(test_data.mean())\n",
      "\n",
      "train_mean = train_data_mean.drop('label', axis=1).drop('url', axis=1).drop('boilerplate', axis=1).drop('alchemy_category', axis=1).values\n",
      "target_mean = train_data_mean['label'].values\n",
      "test_mean = test_data_mean.drop('url', axis=1).drop('boilerplate', axis=1).drop('alchemy_category', axis=1).values\n"
     ],
     "language": "python",
     "metadata": {},
     "outputs": [],
     "prompt_number": 5
    },
    {
     "cell_type": "code",
     "collapsed": false,
     "input": [
      "# RANDOM FOREST\n",
      "rf = RandomForestClassifier(n_estimators=100) \n",
      "rf.fit(train_mean, target_mean) \n",
      "predicted_probs = [x[1] for x in rf.predict_proba(test_mean)]\n",
      "\n",
      "# make submission file\n",
      "predicted_probs = pd.Series(predicted_probs, index=test_data_mean.index)\n",
      "my_submission = pd.DataFrame(predicted_probs, columns=['label'])\n",
      "my_submission.to_csv(mydir + 'rf_mean.csv', index=True, float_format=\"%f\")\n"
     ],
     "language": "python",
     "metadata": {},
     "outputs": [],
     "prompt_number": 153
    },
    {
     "cell_type": "code",
     "collapsed": false,
     "input": [
      "# TF-IDF \n",
      "from sklearn import metrics,preprocessing,cross_validation\n",
      "from sklearn.feature_extraction.text import TfidfVectorizer\n",
      "import sklearn.linear_model as lm\n",
      "\n",
      "loadData = lambda f: np.genfromtxt(open(f,'r'), delimiter=' ')\n",
      "\n",
      "tfv = TfidfVectorizer(min_df=3,  max_features=None, strip_accents='unicode',  \n",
      "        analyzer='word',token_pattern=r'\\w{1,}',ngram_range=(1, 2), use_idf=1,smooth_idf=1,sublinear_tf=1)\n",
      "\n",
      "rd = lm.LogisticRegression(penalty='l2', dual=True, tol=0.0001, \n",
      "                             C=1, fit_intercept=True, intercept_scaling=1.0, \n",
      "                             class_weight=None, random_state=None)\n",
      "\n",
      "train_boiler = list(np.array(pd.read_table(mydir + 'train.tsv'))[:,2])\n",
      "test_boiler = list(np.array(pd.read_table(mydir + 'test.tsv'))[:,2])\n",
      "target_boiler = np.array(pd.read_table(mydir + 'train.tsv'))[:,-1]\n",
      "\n",
      "tfv.fit(train_boiler)\n",
      "train_tfv = tfv.transform(train_boiler)\n",
      "\n",
      "# print \"20 Fold CV Score: \", np.mean(cross_validation.cross_val_score(rd, train_tfv, target_boiler, cv=20, scoring='roc_auc'))"
     ],
     "language": "python",
     "metadata": {},
     "outputs": [],
     "prompt_number": 3
    },
    {
     "cell_type": "code",
     "collapsed": false,
     "input": [
      "#TD - IDF submission\n",
      "\n",
      "#train model on test only\n",
      "rd.fit(train_tfv, target_boiler)\n",
      "\n",
      "# get TDIDF for all data\n",
      "tfv.fit(train_boiler)\n",
      "all_tfv = tfv.transform(train_boiler + test_boiler)\n",
      "lentrain = len(train_boiler)\n",
      "pred = rd.predict_proba(all_tfv[lentrain:])[:,1]\n",
      "\n",
      "testfile = pd.read_csv(mydir + 'test.tsv', sep=\"\\t\", na_values=['?'], index_col=1)\n",
      "pred_df = pd.DataFrame(pred, index=testfile.index, columns=['label'])\n",
      "pred_df.to_csv('tdidf_benchmark.csv')"
     ],
     "language": "python",
     "metadata": {},
     "outputs": [
      {
       "ename": "NameError",
       "evalue": "name 'mkdir' is not defined",
       "output_type": "pyerr",
       "traceback": [
        "\u001b[0;31m---------------------------------------------------------------------------\u001b[0m\n\u001b[0;31mNameError\u001b[0m                                 Traceback (most recent call last)",
        "\u001b[0;32m<ipython-input-9-020c1479d8f8>\u001b[0m in \u001b[0;36m<module>\u001b[0;34m()\u001b[0m\n\u001b[1;32m     10\u001b[0m \u001b[0mpred\u001b[0m \u001b[0;34m=\u001b[0m \u001b[0mrd\u001b[0m\u001b[0;34m.\u001b[0m\u001b[0mpredict_proba\u001b[0m\u001b[0;34m(\u001b[0m\u001b[0mall_tfv\u001b[0m\u001b[0;34m[\u001b[0m\u001b[0mlentrain\u001b[0m\u001b[0;34m:\u001b[0m\u001b[0;34m]\u001b[0m\u001b[0;34m)\u001b[0m\u001b[0;34m[\u001b[0m\u001b[0;34m:\u001b[0m\u001b[0;34m,\u001b[0m\u001b[0;36m1\u001b[0m\u001b[0;34m]\u001b[0m\u001b[0;34m\u001b[0m\u001b[0m\n\u001b[1;32m     11\u001b[0m \u001b[0;34m\u001b[0m\u001b[0m\n\u001b[0;32m---> 12\u001b[0;31m \u001b[0mtestfile\u001b[0m \u001b[0;34m=\u001b[0m \u001b[0mpd\u001b[0m\u001b[0;34m.\u001b[0m\u001b[0mread_csv\u001b[0m\u001b[0;34m(\u001b[0m\u001b[0mmkdir\u001b[0m \u001b[0;34m+\u001b[0m \u001b[0;34m'test.tsv'\u001b[0m\u001b[0;34m,\u001b[0m \u001b[0msep\u001b[0m\u001b[0;34m=\u001b[0m\u001b[0;34m\"\\t\"\u001b[0m\u001b[0;34m,\u001b[0m \u001b[0mna_values\u001b[0m\u001b[0;34m=\u001b[0m\u001b[0;34m[\u001b[0m\u001b[0;34m'?'\u001b[0m\u001b[0;34m]\u001b[0m\u001b[0;34m,\u001b[0m \u001b[0mindex_col\u001b[0m\u001b[0;34m=\u001b[0m\u001b[0;36m1\u001b[0m\u001b[0;34m)\u001b[0m\u001b[0;34m\u001b[0m\u001b[0m\n\u001b[0m\u001b[1;32m     13\u001b[0m \u001b[0mpred_df\u001b[0m \u001b[0;34m=\u001b[0m \u001b[0mpd\u001b[0m\u001b[0;34m.\u001b[0m\u001b[0mDataFrame\u001b[0m\u001b[0;34m(\u001b[0m\u001b[0mpred\u001b[0m\u001b[0;34m,\u001b[0m \u001b[0mindex\u001b[0m\u001b[0;34m=\u001b[0m\u001b[0mtestfile\u001b[0m\u001b[0;34m.\u001b[0m\u001b[0mindex\u001b[0m\u001b[0;34m,\u001b[0m \u001b[0mcolumns\u001b[0m\u001b[0;34m=\u001b[0m\u001b[0;34m[\u001b[0m\u001b[0;34m'label'\u001b[0m\u001b[0;34m]\u001b[0m\u001b[0;34m)\u001b[0m\u001b[0;34m\u001b[0m\u001b[0m\n\u001b[1;32m     14\u001b[0m \u001b[0mpred_df\u001b[0m\u001b[0;34m.\u001b[0m\u001b[0mto_csv\u001b[0m\u001b[0;34m(\u001b[0m\u001b[0;34m'tdidf_benchmark.csv'\u001b[0m\u001b[0;34m)\u001b[0m\u001b[0;34m\u001b[0m\u001b[0m\n",
        "\u001b[0;31mNameError\u001b[0m: name 'mkdir' is not defined"
       ]
      }
     ],
     "prompt_number": 9
    },
    {
     "cell_type": "code",
     "collapsed": false,
     "input": [
      "#TD-IDF with all other columns\n",
      "# Convert other columns to CSR\n",
      "from scipy.sparse import lil_matrix, csr_matrix, hstack, vstack\n",
      "from scipy.sparse.linalg import spsolve\n",
      "from numpy.linalg import solve, norm\n",
      "from numpy.random import rand\n",
      "\n",
      "A = lil_matrix(train_mean)\n",
      "A_csr = A.tocsr()\n",
      "B = vstack(A_csr, train_tfv)\n",
      "tmp = train_tfv.todense()\n",
      "C = np.hstack((tmp, matrix(train_mean)))\n",
      "D = (lil_matrix(C)).tocsr()\n",
      "\n",
      "print \"20 Fold CV Score: \", np.mean(cross_validation.cross_val_score(rd, D, target_boiler, cv=20, scoring='roc_auc'))"
     ],
     "language": "python",
     "metadata": {},
     "outputs": [],
     "prompt_number": 74
    },
    {
     "cell_type": "code",
     "collapsed": false,
     "input": [
      "# SVM\n",
      "from sklearn import svm\n",
      "clf = svm.SVC(probability=True)"
     ],
     "language": "python",
     "metadata": {},
     "outputs": [],
     "prompt_number": 11
    },
    {
     "cell_type": "code",
     "collapsed": false,
     "input": [
      "print \"1 Fold CV Score: \", np.mean(cross_validation.cross_val_score(clf, train_tfv, target_boiler, cv=2, scoring='roc_auc'))"
     ],
     "language": "python",
     "metadata": {},
     "outputs": [],
     "prompt_number": "*"
    }
   ],
   "metadata": {}
  }
 ]
}